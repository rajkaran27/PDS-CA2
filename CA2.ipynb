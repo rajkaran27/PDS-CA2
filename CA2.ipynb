{
 "cells": [
  {
   "cell_type": "markdown",
   "id": "a4b7e486",
   "metadata": {},
   "source": [
    "# Programming for Data Science - CA2 - AY 23/24\n",
    "<table align=\"center\">\n",
    "    <thead>\n",
    "    <tr><td>Category</td><td>Value</td></tr>\n",
    "    </thead>\n",
    "    <tbody>\n",
    "        <tr><td>Name</td><td>M.Rajkaran</td></tr>\n",
    "        <tr><td>Admin</td><td>2109039</td></tr>\n",
    "        <tr><td>Class</td><td>DIT/FT/2A/02</td></tr>\n",
    "        <tr><td>Elective Class</td><td>EL/EP0302/FT/03</td></tr>\n",
    "    </tbody>\n",
    "</table>"
   ]
  },
  {
   "cell_type": "markdown",
   "id": "df6c3e30",
   "metadata": {},
   "source": [
    "## Questions\n",
    "\n",
    "<ul>\n",
    "    <li>What are the happiest and least happiest countries in the world?</li>\n",
    "    <li>How does the average IQ level of a country relate to its happiness?</li>\n",
    "    <li>What are the differences in employment outcomes between graduates from different universities</li>\n",
    "    <li>What are the top 5 industries that employ graduates from these universities?</li>\n",
    "    <li>What are the trends of the birthrate in Singapore.</li>\n",
    "    <li>How has the Consumer Price Index (CPI) impacted the birth rate in Singapore?</li>\n",
    "</ul>"
   ]
  },
  {
   "cell_type": "markdown",
   "id": "c6e39a8c",
   "metadata": {},
   "source": [
    "## Datasets Used\n",
    "\n",
    "\n",
    "<table>\n",
    "    <thead><tr><td><strong>Dataset Name</strong></td><td><strong>Description</strong></td><td><strong>Link</strong></tr></td></thead>\n",
    "    <tbody>\n",
    "        <tr><td>Graduate Employment Survey - NTU, NUS, SIT, SMU, SUSS & SUTD</td><td>The starting salary and employment rate across different universities and degrees in Singapore.</td><td><a src=\"https://data.gov.sg/dataset/graduate-employment-survey-ntu-nus-sit-smu-suss-sutd\">data.gov.sg</a></td></tr>\n",
    "        <tr><td>Consumer Price Index (CPI), 2019 As Base Year</td><td>The CPI across different years in Singapore.</td><td><a src=\"https://tablebuilder.singstat.gov.sg/table/TS/M212931\">singstat.gov.sg</a></td></tr>\n",
    "        <tr><td>Live-Births By Sex And Ethnic Group</td><td>Births by Sex and Ethnic groups across different months in Singapore.</td><td><a src=\"https://tablebuilder.singstat.gov.sg/table/TS/M810051\">singstat.gov.sg</a></td></tr>\n",
    "        <tr><td>World Happiness Report</td><td>Happiness levels of countries around the world.</td><td><a src=\"https://www.kaggle.com/datasets/unsdsn/world-happiness\">kaggle.com</a></td></tr>\n",
    "        <tr><td>Countries by IQ - Average IQ by Country 2023</td><td>The average IQ across different countries in 2023.</td><td><a src=\"https://worldpopulationreview.com/country-rankings/average-iq-by-country\">worldpopulationreview.com</a></td></tr>\n",
    "    </tbody>\n",
    "</table>"
   ]
  },
  {
   "cell_type": "markdown",
   "id": "731b1760",
   "metadata": {},
   "source": [
    "## Importing necessary packages"
   ]
  },
  {
   "cell_type": "code",
   "execution_count": null,
   "id": "08a4efb3",
   "metadata": {},
   "outputs": [],
   "source": [
    "import numpy as np\n",
    "import pandas as pd\n",
    "import matplotlib.pyplot as plt\n",
    "import seaborn as sns"
   ]
  },
  {
   "cell_type": "markdown",
   "id": "db536367",
   "metadata": {},
   "source": [
    "## Reading Data"
   ]
  },
  {
   "cell_type": "code",
   "execution_count": null,
   "id": "dd385df5",
   "metadata": {},
   "outputs": [],
   "source": [
    "graduate_employment_survey = pd.read_csv(\"./Datasets/Graduate Employment Survey/graduate-employment-survey-ntu-nus-sit-smu-suss-sutd.csv\", encoding='latin1')\n",
    "consumer_price_index = pd.read_csv(\"./Datasets/Consumer Price Index/consumer-price-index.csv\")\n",
    "live_births = pd.read_csv(\"./Datasets/Live-Births By Sex And Ethnic Group/Live-Births-By-Sex-And-Ethnic-Group.csv\")\n",
    "average_iq = pd.read_csv(\"./Datasets/Average IQ by Country 2023/average-iq-by-country-2023.csv\")\n",
    "\n",
    "## happiness data\n",
    "world_happiness_2020 = pd.read_csv(\"./Datasets/World Happiness Report/2020.csv\")\n",
    "world_happiness_2021 = pd.read_csv(\"./Datasets/World Happiness Report/2021.csv\")\n",
    "world_happiness_2022 = pd.read_csv(\"./Datasets/World Happiness Report/2022.csv\")\n",
    "\n"
   ]
  },
  {
   "cell_type": "code",
   "execution_count": null,
   "id": "359b0a22",
   "metadata": {},
   "outputs": [],
   "source": [
    "def text_analysis(dataset):\n",
    "    print(f\"First few rows of this dataset:\\n{dataset.head()}\")\n",
    "    print(f\"\\n\\nThe shape of this dataset is:\\n{dataset.shape}\")\n",
    "    print(f\"\\n\\nColumns of this dataset:\\n{dataset.columns}\")\n",
    "    print(\"\\n\\nThe summary of this dataset is:\")\n",
    "    print(dataset.info())\n"
   ]
  },
  {
   "cell_type": "markdown",
   "id": "87072d41",
   "metadata": {},
   "source": [
    "### Text Analysis of Graduate Employment Survey"
   ]
  },
  {
   "cell_type": "code",
   "execution_count": null,
   "id": "b129222e",
   "metadata": {},
   "outputs": [],
   "source": [
    "text_analysis(graduate_employment_survey)\n",
    "\n",
    "# ges_describe_columns=[\"employment_rate_overall\",\"basic_monthly_mean\"]\n",
    "# print(f\"\\n\\nA descriptive summary of this dataset:\\n{graduate_employment_survey[ges_describe_columns].describe()}\\n\\n\")   "
   ]
  },
  {
   "cell_type": "markdown",
   "id": "3d830ea3",
   "metadata": {},
   "source": [
    "### Text Analysis of Consumer Price Index"
   ]
  },
  {
   "cell_type": "code",
   "execution_count": null,
   "id": "ddedad09",
   "metadata": {},
   "outputs": [],
   "source": [
    "text_analysis(consumer_price_index)"
   ]
  },
  {
   "cell_type": "markdown",
   "id": "fad699ec",
   "metadata": {},
   "source": [
    "### Text Analysis of Live Births By Sex and Ethnic Group"
   ]
  },
  {
   "cell_type": "code",
   "execution_count": null,
   "id": "1f62a70a",
   "metadata": {},
   "outputs": [],
   "source": [
    "text_analysis(live_births)"
   ]
  },
  {
   "cell_type": "markdown",
   "id": "8f105370",
   "metadata": {},
   "source": [
    "### Text Analysis of Average IQ by Country 2023"
   ]
  },
  {
   "cell_type": "markdown",
   "id": "3dbe451a",
   "metadata": {},
   "source": [
    "#### Cleaning the dataset, removing unwanted columns like 'pop2023'"
   ]
  },
  {
   "cell_type": "code",
   "execution_count": null,
   "id": "d90afac6",
   "metadata": {},
   "outputs": [],
   "source": [
    "average_iq = average_iq.drop(columns=['pop2023'])"
   ]
  },
  {
   "cell_type": "code",
   "execution_count": null,
   "id": "d28e6589",
   "metadata": {},
   "outputs": [],
   "source": [
    "text_analysis(average_iq)"
   ]
  },
  {
   "cell_type": "markdown",
   "id": "ae9e85f3",
   "metadata": {},
   "source": [
    "### Text Analysis of World Happiness Report"
   ]
  },
  {
   "cell_type": "markdown",
   "id": "d1363f2e",
   "metadata": {},
   "source": [
    "#### 2020"
   ]
  },
  {
   "cell_type": "code",
   "execution_count": null,
   "id": "23e1a559",
   "metadata": {},
   "outputs": [],
   "source": [
    "text_analysis(world_happiness_2020)"
   ]
  },
  {
   "cell_type": "markdown",
   "id": "110b03d8",
   "metadata": {},
   "source": [
    "#### 2021"
   ]
  },
  {
   "cell_type": "code",
   "execution_count": null,
   "id": "b06772e7",
   "metadata": {},
   "outputs": [],
   "source": [
    "text_analysis(world_happiness_2021)"
   ]
  },
  {
   "cell_type": "markdown",
   "id": "7d55ee20",
   "metadata": {},
   "source": [
    "#### 2022"
   ]
  },
  {
   "cell_type": "code",
   "execution_count": null,
   "id": "4d8624b1",
   "metadata": {},
   "outputs": [],
   "source": [
    "text_analysis(world_happiness_2022)"
   ]
  }
 ],
 "metadata": {
  "kernelspec": {
   "display_name": "Python 3",
   "language": "python",
   "name": "python3"
  },
  "language_info": {
   "codemirror_mode": {
    "name": "ipython",
    "version": 3
   },
   "file_extension": ".py",
   "mimetype": "text/x-python",
   "name": "python",
   "nbconvert_exporter": "python",
   "pygments_lexer": "ipython3",
   "version": "3.10.5"
  }
 },
 "nbformat": 4,
 "nbformat_minor": 5
}
