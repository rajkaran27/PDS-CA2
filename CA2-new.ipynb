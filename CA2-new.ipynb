{
 "cells": [
  {
   "cell_type": "code",
   "execution_count": 59,
   "metadata": {},
   "outputs": [],
   "source": [
    "import numpy as np\n",
    "import pandas as pd\n",
    "import matplotlib.pyplot as plt\n",
    "import seaborn as sns"
   ]
  },
  {
   "cell_type": "code",
   "execution_count": 60,
   "metadata": {},
   "outputs": [],
   "source": [
    "graduate_employment_survey = pd.read_csv(\"./Datasets/Graduate Employment Survey/graduate-employment-survey-ntu-nus-sit-smu-suss-sutd.csv\", encoding='latin1')\n",
    "average_iq = pd.read_csv(\"./Datasets/Average IQ by Country 2023/average-iq-by-country-2023.csv\")\n",
    "government_expenditure =  pd.read_csv(\"./Datasets/Government Expenditure/GovernmentRecurrentExpenditureonEducationPerStudent.csv\")\n",
    "uni_intake = pd.read_csv(\"./Datasets/University Intake/UniversitiesIntakeEnrolmentandGraduatesbyCourse.csv\")\n",
    "\n",
    "\n",
    "## happiness data\n",
    "world_happiness_2020 = pd.read_csv(\"./Datasets/World Happiness Report/2020.csv\")\n",
    "world_happiness_2021 = pd.read_csv(\"./Datasets/World Happiness Report/2021.csv\")\n",
    "world_happiness_2022 = pd.read_csv(\"./Datasets/World Happiness Report/2022.csv\")\n"
   ]
  },
  {
   "cell_type": "code",
   "execution_count": 63,
   "metadata": {},
   "outputs": [
    {
     "name": "stdout",
     "output_type": "stream",
     "text": [
      "     year         type_of_educational_institution  expenditure_per_student\n",
      "2    1986  Junior Colleges/Centralised Institutes                     2606\n",
      "3    1986                            Polytechnics                     4143\n",
      "4    1986        Institute of Technical Education                     3924\n",
      "5    1986                            Universities                    11874\n",
      "8    1987  Junior Colleges/Centralised Institutes                     2643\n",
      "..    ...                                     ...                      ...\n",
      "188  2017  Junior Colleges/Centralised Institutes                    17440\n",
      "194  2018  Junior Colleges/Centralised Institutes                    16760\n",
      "200  2019  Junior Colleges/Centralised Institutes                    15592\n",
      "206  2020  Junior Colleges/Centralised Institutes                    15448\n",
      "212  2021  Junior Colleges/Centralised Institutes                    17597\n",
      "\n",
      "[114 rows x 3 columns]\n"
     ]
    }
   ],
   "source": [
    "tertiary = ['Polytechnics', 'Institute of Technical Education', 'Universities', 'Junior Colleges/Centralised Institutes']\n",
    "grouped_by_tertiary = government_expenditure[government_expenditure['type_of_educational_institution'].isin(tertiary)]\n"
   ]
  },
  {
   "cell_type": "code",
   "execution_count": null,
   "metadata": {},
   "outputs": [],
   "source": []
  }
 ],
 "metadata": {
  "kernelspec": {
   "display_name": "Python 3",
   "language": "python",
   "name": "python3"
  },
  "language_info": {
   "codemirror_mode": {
    "name": "ipython",
    "version": 3
   },
   "file_extension": ".py",
   "mimetype": "text/x-python",
   "name": "python",
   "nbconvert_exporter": "python",
   "pygments_lexer": "ipython3",
   "version": "3.10.5"
  },
  "orig_nbformat": 4
 },
 "nbformat": 4,
 "nbformat_minor": 2
}
