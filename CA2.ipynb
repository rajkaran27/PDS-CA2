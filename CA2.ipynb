{
 "cells": [
  {
   "cell_type": "markdown",
   "id": "a4b7e486",
   "metadata": {},
   "source": [
    "# Programming for Data Science - CA2 - AY 23/24\n",
    "<table align=\"center\">\n",
    "    <thead>\n",
    "    <tr><td>Category</td><td>Value</td></tr>\n",
    "    </thead>\n",
    "    <tbody>\n",
    "        <tr><td>Name</td><td>M.Rajkaran</td></tr>\n",
    "        <tr><td>Admin</td><td>2109039</td></tr>\n",
    "        <tr><td>Class</td><td>DIT/FT/2A/02</td></tr>\n",
    "        <tr><td>Elective Class</td><td>EL/EP0302/FT/03</td></tr>\n",
    "    </tbody>\n",
    "</table>"
   ]
  },
  {
   "cell_type": "markdown",
   "id": "df6c3e30",
   "metadata": {},
   "source": [
    "## Questions\n",
    "\n",
    "<ul>\n",
    "    <li>What are the happiest and least happiest countries in the world?</li>\n",
    "    <li>How does the average IQ level of a country relate to its happiness?</li>\n",
    "    <li>What are the differences in employment outcomes between graduates from different universities</li>\n",
    "    <li>What are the top 5 industries that employ graduates from these universities?</li>\n",
    "    <li>What are the trends of the birthrate in Singapore.</li>\n",
    "    <li>How has the Consumer Price Index (CPI) impacted the birth rate in Singapore?</li>\n",
    "</ul>"
   ]
  },
  {
   "cell_type": "markdown",
   "id": "c6e39a8c",
   "metadata": {},
   "source": [
    "## Datasets Used\n",
    "\n",
    "\n",
    "<table>\n",
    "    <thead><tr><td><strong>Dataset Name</strong></td><td><strong>Description</strong></td><td><strong>Link</strong></tr></td></thead>\n",
    "    <tbody>\n",
    "        <tr><td>Graduate Employment Survey - NTU, NUS, SIT, SMU, SUSS & SUTD</td><td>The starting salary and employment rate across different universities and degrees in Singapore.</td><td><a src=\"https://data.gov.sg/dataset/graduate-employment-survey-ntu-nus-sit-smu-suss-sutd\">data.gov.sg</a></td></tr>\n",
    "        <tr><td>Consumer Price Index (CPI), 2019 As Base Year</td><td>The CPI across different years in Singapore.</td><td><a src=\"https://tablebuilder.singstat.gov.sg/table/TS/M212931\">singstat.gov.sg</a></td></tr>\n",
    "        <tr><td>Live-Births By Sex And Ethnic Group</td><td>Births by Sex and Ethnic groups across different months in Singapore.</td><td><a src=\"https://tablebuilder.singstat.gov.sg/table/TS/M810051\">singstat.gov.sg</a></td></tr>\n",
    "        <tr><td>World Happiness Report</td><td>Happiness levels of countries around the world.</td><td><a src=\"https://www.kaggle.com/datasets/unsdsn/world-happiness\">kaggle.com</a></td></tr>\n",
    "        <tr><td>Countries by IQ - Average IQ by Country 2023</td><td>The average IQ across different countries in 2023.</td><td><a src=\"https://worldpopulationreview.com/country-rankings/average-iq-by-country\">worldpopulationreview.com</a></td></tr>\n",
    "    </tbody>\n",
    "</table>"
   ]
  },
  {
   "cell_type": "markdown",
   "id": "731b1760",
   "metadata": {},
   "source": [
    "## Importing necessary packages"
   ]
  },
  {
   "cell_type": "code",
   "execution_count": 3,
   "id": "08a4efb3",
   "metadata": {},
   "outputs": [],
   "source": [
    "import numpy as np\n",
    "import pandas as pd\n",
    "import matplotlib.pyplot as plt\n",
    "import seaborn as sns"
   ]
  },
  {
   "cell_type": "markdown",
   "id": "db536367",
   "metadata": {},
   "source": [
    "## Reading Data"
   ]
  },
  {
   "cell_type": "code",
   "execution_count": 4,
   "id": "dd385df5",
   "metadata": {},
   "outputs": [],
   "source": [
    "graduate_employment_survey = pd.read_csv(\"./Datasets/Graduate Employment Survey/graduate-employment-survey-ntu-nus-sit-smu-suss-sutd.csv\", encoding='latin1')\n",
    "# consumer_price_index = pd.read_csv(\"./Datasets/Consumer Price Index/consumer-price-index.csv\")\n",
    "# live_births = pd.read_csv(\"./Datasets/Live-Births By Sex And Ethnic Group/Live-Births-By-Sex-And-Ethnic-Group.csv\")\n",
    "# average_iq = pd.read_csv(\"./Datasets/Average IQ by Country 2023/average-iq-by-country-2023.csv\")\n",
    "\n",
    "## happiness data\n",
    "world_happiness_2020 = pd.read_csv(\"./Datasets/World Happiness Report/2020.csv\")\n",
    "world_happiness_2021 = pd.read_csv(\"./Datasets/World Happiness Report/2021.csv\")\n",
    "world_happiness_2022 = pd.read_csv(\"./Datasets/World Happiness Report/2022.csv\")\n",
    "\n"
   ]
  },
  {
   "cell_type": "code",
   "execution_count": 9,
   "id": "8b3877f6",
   "metadata": {},
   "outputs": [
    {
     "ename": "ValueError",
     "evalue": "Cannot mask with non-boolean array containing NA / NaN values",
     "output_type": "error",
     "traceback": [
      "\u001b[1;31m---------------------------------------------------------------------------\u001b[0m",
      "\u001b[1;31mValueError\u001b[0m                                Traceback (most recent call last)",
      "\u001b[1;32mc:\\Users\\rajka\\OneDrive - Singapore Polytechnic\\Year 2\\PDS\\CA2\\CA2.ipynb Cell 8\u001b[0m in \u001b[0;36m<cell line: 20>\u001b[1;34m()\u001b[0m\n\u001b[0;32m      <a href='vscode-notebook-cell:/c%3A/Users/rajka/OneDrive%20-%20Singapore%20Polytechnic/Year%202/PDS/CA2/CA2.ipynb#X34sZmlsZQ%3D%3D?line=0'>1</a>\u001b[0m \u001b[39m# # Select the two rows based on the degree column\u001b[39;00m\n\u001b[0;32m      <a href='vscode-notebook-cell:/c%3A/Users/rajka/OneDrive%20-%20Singapore%20Polytechnic/Year%202/PDS/CA2/CA2.ipynb#X34sZmlsZQ%3D%3D?line=1'>2</a>\u001b[0m \u001b[39m# rows_to_merge = graduate_employment_survey[graduate_employment_survey['degree'].str.contains('Information Systems Management')]\u001b[39;00m\n\u001b[0;32m      <a href='vscode-notebook-cell:/c%3A/Users/rajka/OneDrive%20-%20Singapore%20Polytechnic/Year%202/PDS/CA2/CA2.ipynb#X34sZmlsZQ%3D%3D?line=2'>3</a>\u001b[0m \n\u001b[1;32m   (...)\u001b[0m\n\u001b[0;32m     <a href='vscode-notebook-cell:/c%3A/Users/rajka/OneDrive%20-%20Singapore%20Polytechnic/Year%202/PDS/CA2/CA2.ipynb#X34sZmlsZQ%3D%3D?line=15'>16</a>\u001b[0m \u001b[39m# # Print the updated DataFrame\u001b[39;00m\n\u001b[0;32m     <a href='vscode-notebook-cell:/c%3A/Users/rajka/OneDrive%20-%20Singapore%20Polytechnic/Year%202/PDS/CA2/CA2.ipynb#X34sZmlsZQ%3D%3D?line=16'>17</a>\u001b[0m \u001b[39m# print(graduate_employment_survey)\u001b[39;00m\n\u001b[1;32m---> <a href='vscode-notebook-cell:/c%3A/Users/rajka/OneDrive%20-%20Singapore%20Polytechnic/Year%202/PDS/CA2/CA2.ipynb#X34sZmlsZQ%3D%3D?line=19'>20</a>\u001b[0m smu \u001b[39m=\u001b[39m graduate_employment_survey[graduate_employment_survey[\u001b[39m'\u001b[39;49m\u001b[39muniversity\u001b[39;49m\u001b[39m'\u001b[39;49m]\u001b[39m.\u001b[39;49mstr\u001b[39m.\u001b[39;49mcontains(\u001b[39m'\u001b[39;49m\u001b[39mSingapore Management University\u001b[39;49m\u001b[39m'\u001b[39;49m)]\n\u001b[0;32m     <a href='vscode-notebook-cell:/c%3A/Users/rajka/OneDrive%20-%20Singapore%20Polytechnic/Year%202/PDS/CA2/CA2.ipynb#X34sZmlsZQ%3D%3D?line=21'>22</a>\u001b[0m rows \u001b[39m=\u001b[39m smu[smu\u001b[39m.\u001b[39mschool\u001b[39m.\u001b[39mstr\u001b[39m.\u001b[39mcontains(\u001b[39m'\u001b[39m\u001b[39mSchool of Information Systems\u001b[39m\u001b[39m'\u001b[39m)]\n\u001b[0;32m     <a href='vscode-notebook-cell:/c%3A/Users/rajka/OneDrive%20-%20Singapore%20Polytechnic/Year%202/PDS/CA2/CA2.ipynb#X34sZmlsZQ%3D%3D?line=23'>24</a>\u001b[0m average_values \u001b[39m=\u001b[39m rows\u001b[39m.\u001b[39mmean()\n",
      "File \u001b[1;32mc:\\Users\\rajka\\AppData\\Local\\Programs\\Python\\Python310\\lib\\site-packages\\pandas\\core\\frame.py:3495\u001b[0m, in \u001b[0;36mDataFrame.__getitem__\u001b[1;34m(self, key)\u001b[0m\n\u001b[0;32m   3492\u001b[0m     \u001b[39mreturn\u001b[39;00m \u001b[39mself\u001b[39m\u001b[39m.\u001b[39mwhere(key)\n\u001b[0;32m   3494\u001b[0m \u001b[39m# Do we have a (boolean) 1d indexer?\u001b[39;00m\n\u001b[1;32m-> 3495\u001b[0m \u001b[39mif\u001b[39;00m com\u001b[39m.\u001b[39;49mis_bool_indexer(key):\n\u001b[0;32m   3496\u001b[0m     \u001b[39mreturn\u001b[39;00m \u001b[39mself\u001b[39m\u001b[39m.\u001b[39m_getitem_bool_array(key)\n\u001b[0;32m   3498\u001b[0m \u001b[39m# We are left with two options: a single key, and a collection of keys,\u001b[39;00m\n\u001b[0;32m   3499\u001b[0m \u001b[39m# We interpret tuples as collections only for non-MultiIndex\u001b[39;00m\n",
      "File \u001b[1;32mc:\\Users\\rajka\\AppData\\Local\\Programs\\Python\\Python310\\lib\\site-packages\\pandas\\core\\common.py:144\u001b[0m, in \u001b[0;36mis_bool_indexer\u001b[1;34m(key)\u001b[0m\n\u001b[0;32m    140\u001b[0m     na_msg \u001b[39m=\u001b[39m \u001b[39m\"\u001b[39m\u001b[39mCannot mask with non-boolean array containing NA / NaN values\u001b[39m\u001b[39m\"\u001b[39m\n\u001b[0;32m    141\u001b[0m     \u001b[39mif\u001b[39;00m lib\u001b[39m.\u001b[39minfer_dtype(key) \u001b[39m==\u001b[39m \u001b[39m\"\u001b[39m\u001b[39mboolean\u001b[39m\u001b[39m\"\u001b[39m \u001b[39mand\u001b[39;00m isna(key)\u001b[39m.\u001b[39many():\n\u001b[0;32m    142\u001b[0m         \u001b[39m# Don't raise on e.g. [\"A\", \"B\", np.nan], see\u001b[39;00m\n\u001b[0;32m    143\u001b[0m         \u001b[39m#  test_loc_getitem_list_of_labels_categoricalindex_with_na\u001b[39;00m\n\u001b[1;32m--> 144\u001b[0m         \u001b[39mraise\u001b[39;00m \u001b[39mValueError\u001b[39;00m(na_msg)\n\u001b[0;32m    145\u001b[0m     \u001b[39mreturn\u001b[39;00m \u001b[39mFalse\u001b[39;00m\n\u001b[0;32m    146\u001b[0m \u001b[39mreturn\u001b[39;00m \u001b[39mTrue\u001b[39;00m\n",
      "\u001b[1;31mValueError\u001b[0m: Cannot mask with non-boolean array containing NA / NaN values"
     ]
    }
   ],
   "source": [
    "# # Select the two rows based on the degree column\n",
    "# rows_to_merge = graduate_employment_survey[graduate_employment_survey['degree'].str.contains('Information Systems Management')]\n",
    "\n",
    "# # Calculate the average values for each column\n",
    "# average_values = rows_to_merge.mean()\n",
    "\n",
    "# # Create a new DataFrame with the average values\n",
    "# merged_row = pd.DataFrame(average_values).T\n",
    "\n",
    "# # Append the merged row to the original DataFrame\n",
    "# graduate_employment_survey = graduate_employment_survey.append(merged_row, ignore_index=True)\n",
    "\n",
    "# # Drop the original rows that were merged\n",
    "# graduate_employment_survey = graduate_employment_survey.drop(rows_to_merge.index)\n",
    "\n",
    "# # Print the updated DataFrame\n",
    "# print(graduate_employment_survey)\n",
    "\n",
    "\n",
    "smu = graduate_employment_survey[graduate_employment_survey['university'].str.contains('Singapore Management University')]\n",
    "\n",
    "rows = smu[smu.school.str.contains('School of Information Systems')]\n",
    "\n",
    "average_values = rows.mean()\n",
    "\n",
    "print(average_values)"
   ]
  },
  {
   "cell_type": "code",
   "execution_count": 6,
   "id": "359b0a22",
   "metadata": {},
   "outputs": [],
   "source": [
    "def text_analysis(dataset):\n",
    "    print(f\"First few rows of this dataset:\\n{dataset.head()}\")\n",
    "    print(f\"\\n\\nThe shape of this dataset is:\\n{dataset.shape}\")\n",
    "    print(f\"\\n\\nColumns of this dataset:\\n{dataset.columns}\")\n",
    "    print(\"\\n\\nThe summary of this dataset is:\")\n",
    "    print(dataset.info())\n"
   ]
  },
  {
   "cell_type": "markdown",
   "id": "87072d41",
   "metadata": {},
   "source": [
    "### Text Analysis of Graduate Employment Survey"
   ]
  },
  {
   "cell_type": "code",
   "execution_count": 7,
   "id": "b129222e",
   "metadata": {},
   "outputs": [
    {
     "name": "stdout",
     "output_type": "stream",
     "text": [
      "First few rows of this dataset:\n",
      "     year                        university  \\\n",
      "0  2013.0  Nanyang Technological University   \n",
      "1  2013.0  Nanyang Technological University   \n",
      "2  2013.0  Nanyang Technological University   \n",
      "3  2013.0  Nanyang Technological University   \n",
      "4  2013.0  Nanyang Technological University   \n",
      "\n",
      "                                          school  \\\n",
      "0  College of Business (Nanyang Business School)   \n",
      "1  College of Business (Nanyang Business School)   \n",
      "2  College of Business (Nanyang Business School)   \n",
      "3  College of Business (Nanyang Business School)   \n",
      "4                         College of Engineering   \n",
      "\n",
      "                                        degree employment_rate_overall  \\\n",
      "0                     Accountancy and Business                    97.4   \n",
      "1  Accountancy (3-yr direct Honours Programme)                    97.1   \n",
      "2     Business (3-yr direct Honours Programme)                    90.9   \n",
      "3                       Business and Computing                    87.5   \n",
      "4                        Aerospace Engineering                    95.3   \n",
      "\n",
      "  employment_rate_ft_perm basic_monthly_mean basic_monthly_median  \\\n",
      "0                    96.1               3701                 3200   \n",
      "1                    95.7               2850                 2700   \n",
      "2                    85.7               3053                 3000   \n",
      "3                    87.5               3557                 3400   \n",
      "4                    95.3               3494                 3500   \n",
      "\n",
      "  gross_monthly_mean gross_monthly_median gross_mthly_25_percentile  \\\n",
      "0               3727                 3350                      2900   \n",
      "1               2938                 2700                      2700   \n",
      "2               3214                 3000                      2700   \n",
      "3               3615                 3400                      3000   \n",
      "4               3536                 3500                      3100   \n",
      "\n",
      "  gross_mthly_75_percentile  \n",
      "0                      4000  \n",
      "1                      2900  \n",
      "2                      3500  \n",
      "3                      4100  \n",
      "4                      3816  \n",
      "\n",
      "\n",
      "The shape of this dataset is:\n",
      "(1112, 12)\n",
      "\n",
      "\n",
      "Columns of this dataset:\n",
      "Index(['year', 'university', 'school', 'degree', 'employment_rate_overall',\n",
      "       'employment_rate_ft_perm', 'basic_monthly_mean', 'basic_monthly_median',\n",
      "       'gross_monthly_mean', 'gross_monthly_median',\n",
      "       'gross_mthly_25_percentile', 'gross_mthly_75_percentile'],\n",
      "      dtype='object')\n",
      "\n",
      "\n",
      "The summary of this dataset is:\n",
      "<class 'pandas.core.frame.DataFrame'>\n",
      "Int64Index: 1112 entries, 0 to 1121\n",
      "Data columns (total 12 columns):\n",
      " #   Column                     Non-Null Count  Dtype  \n",
      "---  ------                     --------------  -----  \n",
      " 0   year                       1112 non-null   float64\n",
      " 1   university                 1111 non-null   object \n",
      " 2   school                     1111 non-null   object \n",
      " 3   degree                     1111 non-null   object \n",
      " 4   employment_rate_overall    1111 non-null   object \n",
      " 5   employment_rate_ft_perm    1111 non-null   object \n",
      " 6   basic_monthly_mean         1112 non-null   object \n",
      " 7   basic_monthly_median       1112 non-null   object \n",
      " 8   gross_monthly_mean         1112 non-null   object \n",
      " 9   gross_monthly_median       1112 non-null   object \n",
      " 10  gross_mthly_25_percentile  1112 non-null   object \n",
      " 11  gross_mthly_75_percentile  1112 non-null   object \n",
      "dtypes: float64(1), object(11)\n",
      "memory usage: 112.9+ KB\n",
      "None\n"
     ]
    }
   ],
   "source": [
    "text_analysis(graduate_employment_survey)\n",
    "\n",
    "# ges_describe_columns=[\"employment_rate_overall\",\"basic_monthly_mean\"]\n",
    "# print(f\"\\n\\nA descriptive summary of this dataset:\\n{graduate_employment_survey[ges_describe_columns].describe()}\\n\\n\")   "
   ]
  },
  {
   "cell_type": "markdown",
   "id": "3d830ea3",
   "metadata": {},
   "source": [
    "### Text Analysis of Consumer Price Index"
   ]
  },
  {
   "cell_type": "code",
   "execution_count": 8,
   "id": "ddedad09",
   "metadata": {},
   "outputs": [
    {
     "ename": "NameError",
     "evalue": "name 'consumer_price_index' is not defined",
     "output_type": "error",
     "traceback": [
      "\u001b[1;31m---------------------------------------------------------------------------\u001b[0m",
      "\u001b[1;31mNameError\u001b[0m                                 Traceback (most recent call last)",
      "\u001b[1;32mc:\\Users\\rajka\\OneDrive - Singapore Polytechnic\\Year 2\\PDS\\CA2\\CA2.ipynb Cell 13\u001b[0m in \u001b[0;36m<cell line: 1>\u001b[1;34m()\u001b[0m\n\u001b[1;32m----> <a href='vscode-notebook-cell:/c%3A/Users/rajka/OneDrive%20-%20Singapore%20Polytechnic/Year%202/PDS/CA2/CA2.ipynb#X14sZmlsZQ%3D%3D?line=0'>1</a>\u001b[0m text_analysis(consumer_price_index)\n",
      "\u001b[1;31mNameError\u001b[0m: name 'consumer_price_index' is not defined"
     ]
    }
   ],
   "source": [
    "text_analysis(consumer_price_index)"
   ]
  },
  {
   "cell_type": "markdown",
   "id": "fad699ec",
   "metadata": {},
   "source": [
    "### Text Analysis of Live Births By Sex and Ethnic Group"
   ]
  },
  {
   "cell_type": "code",
   "execution_count": null,
   "id": "1f62a70a",
   "metadata": {},
   "outputs": [],
   "source": [
    "text_analysis(live_births)"
   ]
  },
  {
   "cell_type": "markdown",
   "id": "8f105370",
   "metadata": {},
   "source": [
    "### Text Analysis of Average IQ by Country 2023"
   ]
  },
  {
   "cell_type": "markdown",
   "id": "3dbe451a",
   "metadata": {},
   "source": [
    "#### Cleaning the dataset, removing unwanted columns like 'pop2023'"
   ]
  },
  {
   "cell_type": "code",
   "execution_count": null,
   "id": "d90afac6",
   "metadata": {},
   "outputs": [],
   "source": [
    "average_iq = average_iq.drop(columns=['pop2023'])"
   ]
  },
  {
   "cell_type": "code",
   "execution_count": null,
   "id": "d28e6589",
   "metadata": {},
   "outputs": [],
   "source": [
    "text_analysis(average_iq)"
   ]
  },
  {
   "cell_type": "markdown",
   "id": "ae9e85f3",
   "metadata": {},
   "source": [
    "### Text Analysis of World Happiness Report"
   ]
  },
  {
   "cell_type": "markdown",
   "id": "d1363f2e",
   "metadata": {},
   "source": [
    "#### 2020"
   ]
  },
  {
   "cell_type": "code",
   "execution_count": null,
   "id": "23e1a559",
   "metadata": {},
   "outputs": [],
   "source": [
    "text_analysis(world_happiness_2020)"
   ]
  },
  {
   "cell_type": "markdown",
   "id": "110b03d8",
   "metadata": {},
   "source": [
    "#### 2021"
   ]
  },
  {
   "cell_type": "code",
   "execution_count": null,
   "id": "b06772e7",
   "metadata": {},
   "outputs": [],
   "source": [
    "text_analysis(world_happiness_2021)"
   ]
  },
  {
   "cell_type": "markdown",
   "id": "7d55ee20",
   "metadata": {},
   "source": [
    "#### 2022"
   ]
  },
  {
   "cell_type": "code",
   "execution_count": null,
   "id": "4d8624b1",
   "metadata": {},
   "outputs": [],
   "source": [
    "text_analysis(world_happiness_2022)"
   ]
  }
 ],
 "metadata": {
  "kernelspec": {
   "display_name": "Python 3",
   "language": "python",
   "name": "python3"
  },
  "language_info": {
   "codemirror_mode": {
    "name": "ipython",
    "version": 3
   },
   "file_extension": ".py",
   "mimetype": "text/x-python",
   "name": "python",
   "nbconvert_exporter": "python",
   "pygments_lexer": "ipython3",
   "version": "3.10.5"
  }
 },
 "nbformat": 4,
 "nbformat_minor": 5
}
